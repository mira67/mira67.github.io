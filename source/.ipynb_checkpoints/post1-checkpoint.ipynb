{
 "cells": [
  {
   "cell_type": "markdown",
   "id": "b4ca8e01",
   "metadata": {},
   "source": [
    "<img src=\"http://www.mira67.com/images/profile_img.png\" width=\"240\" height=\"240\" style=\"margin:auto\"/>"
   ]
  },
  {
   "cell_type": "markdown",
   "id": "cdc5f4ac",
   "metadata": {},
   "source": [
    "__[Profile](index.html)__   |    __[Publications](publications.html)__   |  __[Blog](blog.html)__ "
   ]
  },
  {
   "cell_type": "markdown",
   "id": "0a2a1ac4",
   "metadata": {},
   "source": [
    "### <center> Blog title </center>"
   ]
  },
  {
   "cell_type": "markdown",
   "id": "dbab8f91",
   "metadata": {},
   "source": [
    "**Date**"
   ]
  },
  {
   "cell_type": "markdown",
   "id": "61369294",
   "metadata": {},
   "source": [
    "Blog body"
   ]
  }
 ],
 "metadata": {
  "kernelspec": {
   "display_name": "Python 3 (ipykernel)",
   "language": "python",
   "name": "python3"
  },
  "language_info": {
   "codemirror_mode": {
    "name": "ipython",
    "version": 3
   },
   "file_extension": ".py",
   "mimetype": "text/x-python",
   "name": "python",
   "nbconvert_exporter": "python",
   "pygments_lexer": "ipython3",
   "version": "3.9.8"
  }
 },
 "nbformat": 4,
 "nbformat_minor": 5
}
