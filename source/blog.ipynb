{
 "cells": [
  {
   "cell_type": "markdown",
   "id": "ff0d6620",
   "metadata": {},
   "source": [
    "<img src=\"http://www.mira67.com/images/profile_img.png\" width=\"240\" height=\"240\" style=\"margin:auto\"/>"
   ]
  },
  {
   "cell_type": "markdown",
   "id": "07757ffe",
   "metadata": {},
   "source": [
    "__[Profile](index.html)__   |    __[Publications](publications.html)__   |  __[Blog](blog.html)__   "
   ]
  },
  {
   "cell_type": "markdown",
   "id": "876ff370",
   "metadata": {},
   "source": [
    "<br>\n",
    "<center> \"If we knew what we were doing, it wouldn't be called research, would it?\" <br>\n",
    "- Albert Einstein  </center>"
   ]
  },
  {
   "cell_type": "markdown",
   "id": "49137eb2",
   "metadata": {},
   "source": [
    "# Blogs"
   ]
  },
  {
   "cell_type": "markdown",
   "id": "2d0e2d05",
   "metadata": {},
   "source": [
    "JUL 2022 <br> \n",
    "__[Blog title 1](post1.html)__"
   ]
  }
 ],
 "metadata": {
  "kernelspec": {
   "display_name": "Python 3 (ipykernel)",
   "language": "python",
   "name": "python3"
  },
  "language_info": {
   "codemirror_mode": {
    "name": "ipython",
    "version": 3
   },
   "file_extension": ".py",
   "mimetype": "text/x-python",
   "name": "python",
   "nbconvert_exporter": "python",
   "pygments_lexer": "ipython3",
   "version": "3.9.8"
  }
 },
 "nbformat": 4,
 "nbformat_minor": 5
}
