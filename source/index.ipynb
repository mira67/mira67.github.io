{
 "cells": [
  {
   "cell_type": "markdown",
   "id": "5ce994b4",
   "metadata": {},
   "source": [
    "<img src=\"http://www.mira67.com/images/profile_img.png\" width=\"240\" height=\"240\" style=\"margin:auto\"/>"
   ]
  },
  {
   "cell_type": "markdown",
   "id": "7b01a1c4",
   "metadata": {},
   "source": [
    "__[Profile](index.html)__   |    __[Publications](publications.html)__   |  __[Blog](blog.html)__   "
   ]
  },
  {
   "cell_type": "markdown",
   "id": "42bfb587",
   "metadata": {},
   "source": [
    "# <center>Qi Liu</center>\n",
    "\n",
    "I received B.S., M.S. in Electrical Engineer from Harbin Institute of Technology, China, in 2010, 2012, respectively. I am currently pursuing the Ph.D. degree with the Department of Electrical and Computer and Energy Engineering, University of Colorado, Boulder. Advisors: Dr. Li Shang and Dr. Qin Lv. My current research interests include machine learning, data mining, wearable computing. I am a student member of IEEE.\n",
    "\n"
   ]
  },
  {
   "cell_type": "markdown",
   "id": "876e88ef",
   "metadata": {},
   "source": [
    "## Recent Post"
   ]
  },
  {
   "cell_type": "markdown",
   "id": "b7b73a95",
   "metadata": {},
   "source": [
    "- __[Blog 1](http://url)__\n",
    "- __[Blog 2](http://url)__\n",
    "- __[Blog 3](http://url)__\n"
   ]
  },
  {
   "cell_type": "markdown",
   "id": "b91ba007",
   "metadata": {},
   "source": [
    "## What can I find in this blog?"
   ]
  },
  {
   "cell_type": "markdown",
   "id": "e80f898d",
   "metadata": {},
   "source": [
    "text here"
   ]
  },
  {
   "cell_type": "markdown",
   "id": "e6aeb985",
   "metadata": {},
   "source": [
    "<hr>"
   ]
  },
  {
   "cell_type": "markdown",
   "id": "3f280a70",
   "metadata": {},
   "source": [
    "<center> © 2022 QI LIU </center>"
   ]
  }
 ],
 "metadata": {
  "kernelspec": {
   "display_name": "Python 3 (ipykernel)",
   "language": "python",
   "name": "python3"
  },
  "language_info": {
   "codemirror_mode": {
    "name": "ipython",
    "version": 3
   },
   "file_extension": ".py",
   "mimetype": "text/x-python",
   "name": "python",
   "nbconvert_exporter": "python",
   "pygments_lexer": "ipython3",
   "version": "3.9.8"
  }
 },
 "nbformat": 4,
 "nbformat_minor": 5
}
