{
 "cells": [
  {
   "cell_type": "markdown",
   "id": "5ce994b4",
   "metadata": {},
   "source": [
    "<img src=\"https://avatars.githubusercontent.com/u/5383940?s=400&u=43f41482f30b4791ee6dbafff702c9227662660c&v=4\" width=\"240\" height=\"240\" style=\"margin:auto\"/>"
   ]
  },
  {
   "cell_type": "markdown",
   "id": "7b01a1c4",
   "metadata": {},
   "source": [
    "__[About](index.html)__  |  __[Blog](blog.html)__   "
   ]
  },
  {
   "cell_type": "markdown",
   "id": "42bfb587",
   "metadata": {},
   "source": [
    "A problem solver, innovator, and a leader.\n",
    "\n",
    "My problem solving principles:\n",
    "- Solve a real problem.\n",
    "- Data-driven.\n",
    "- Simplify.\n",
    "\n",
    "Sometime, when there are no sufficient observable data points for a data-driven decision, I make decisions with the help of my intuitions or `knack` with `natural data` from my neural network.\n"
   ]
  },
  {
   "cell_type": "markdown",
   "id": "e6aeb985",
   "metadata": {},
   "source": [
    "<hr>"
   ]
  },
  {
   "cell_type": "markdown",
   "id": "3f280a70",
   "metadata": {},
   "source": [
    "<center> © 2022 QI LIU </center>"
   ]
  }
 ],
 "metadata": {
  "kernelspec": {
   "display_name": "Python 3.9.7 64-bit",
   "language": "python",
   "name": "python3"
  },
  "language_info": {
   "codemirror_mode": {
    "name": "ipython",
    "version": 3
   },
   "file_extension": ".py",
   "mimetype": "text/x-python",
   "name": "python",
   "nbconvert_exporter": "python",
   "pygments_lexer": "ipython3",
   "version": "3.9.7"
  },
  "vscode": {
   "interpreter": {
    "hash": "aee8b7b246df8f9039afb4144a1f6fd8d2ca17a180786b69acc140d282b71a49"
   }
  }
 },
 "nbformat": 4,
 "nbformat_minor": 5
}
