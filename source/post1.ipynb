{
 "cells": [
  {
   "cell_type": "markdown",
   "id": "cdc5f4ac",
   "metadata": {},
   "source": [
    "__[About](index.html)__  |  __[Blog](blog.html)__ "
   ]
  },
  {
   "cell_type": "markdown",
   "id": "0a2a1ac4",
   "metadata": {},
   "source": [
    "### <center> 脆皮鸭好吃 </center>"
   ]
  },
  {
   "cell_type": "markdown",
   "id": "dbab8f91",
   "metadata": {},
   "source": [
    "**10-28-2022**"
   ]
  },
  {
   "cell_type": "markdown",
   "id": "61369294",
   "metadata": {},
   "source": [
    "近日读书：[人间滋味（蔡昀恩)](https://book.douban.com/subject/35503768/)\n",
    "\n",
    "书比较短，却在一位百岁老奶奶的身上看到了\n",
    "- 年轻人该有的努力和奋斗\n",
    "- 作为一名从医者的敬业和钻研\n",
    "- 对于爱情和亲情的温暖和豁达\n",
    "- 作为一名吃货的执着：我也学会了如何吃鸭肠，如何吃寿司（只吃那片儿肉，哈哈）\n",
    "\n",
    "想到了之前看到的一句话，不读书的人只活一辈子，读书的人可以活几辈子。也许不能活几辈子，至少看到了更多的颜色，尝到了更多的味道。\n",
    "从这本书看到了汪曾祺的 [万物可期，人间值得](https://read.douban.com/ebook/165500255/)。。。我只想说，妥妥的吃货啊，散文写出了老饭骨菜谱的味道\n",
    "- 葡萄藤的轮回，从泥土里到半空，还有吸管\n",
    "- 追着🐝跑的养蜂人\n",
    "- 传说中的山丹丹花\n",
    "- 30分钟的地道手抓羊肉（想想都香啊）\n",
    "\n",
    "不知道是不是看吃货书看得，一些自我否定之后，半只脆皮鸭就没了，East Moon的饭菜还不错，去过好几次了，脆皮鸭目前的最爱，还有各种咖喱，冬天的温暖。\n",
    "俞奶奶说的对，不开心的时候，那就吃一顿，一顿吃不好，那就吃两顿。开心不开心，都要好好吃饭。"
   ]
  },
  {
   "cell_type": "markdown",
   "id": "9ed6aa15",
   "metadata": {},
   "source": []
  }
 ],
 "metadata": {
  "kernelspec": {
   "display_name": "Python 3.9.7 64-bit",
   "language": "python",
   "name": "python3"
  },
  "language_info": {
   "codemirror_mode": {
    "name": "ipython",
    "version": 3
   },
   "file_extension": ".py",
   "mimetype": "text/x-python",
   "name": "python",
   "nbconvert_exporter": "python",
   "pygments_lexer": "ipython3",
   "version": "3.9.7"
  },
  "vscode": {
   "interpreter": {
    "hash": "aee8b7b246df8f9039afb4144a1f6fd8d2ca17a180786b69acc140d282b71a49"
   }
  }
 },
 "nbformat": 4,
 "nbformat_minor": 5
}
