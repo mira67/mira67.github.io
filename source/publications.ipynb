{
 "cells": [
  {
   "cell_type": "markdown",
   "id": "d17c89f7",
   "metadata": {},
   "source": [
    "<img src=\"http://www.mira67.com/images/profile_img.png\" width=\"240\" height=\"240\" style=\"margin:auto\"/>"
   ]
  },
  {
   "cell_type": "markdown",
   "id": "fc9959ef",
   "metadata": {},
   "source": [
    "__[Profile](index.html)__   |    __[Publications](publications.html)__   |  __[Blog](blog.html)__   "
   ]
  },
  {
   "cell_type": "markdown",
   "id": "16adae8e",
   "metadata": {},
   "source": [
    "## Google Scholar"
   ]
  },
  {
   "cell_type": "markdown",
   "id": "cbb078f5",
   "metadata": {},
   "source": [
    "JUL 2017 <br> \n",
    "__[Hierarchical Context-Aware Anomaly Diagnosis in Large-Scale PV Systems Using SCADA Data.](https://www.researchgate.net/publication/320333368_Hierarchical_Context-Aware_Anomaly_Diagnosis_in_Large-Scale_PV_Systems_Using_SCADA_Data)__\n",
    "IEEE International Conference on Industrial Informatics."
   ]
  },
  {
   "cell_type": "markdown",
   "id": "6f3a2da6",
   "metadata": {},
   "source": [
    "JUL 2017 <br> \n",
    "__[Data Quality Screening For High-Resolution Satellite Imagery via Spectral Clustering.](https://www.researchgate.net/publication/320333372_DATA_QUALITY_SCREENING_FOR_HIGH-RESOLUTION_SATELLITE_IMAGERY_VIA_SPECTRAL_CLUSTERING)__\n",
    "IEEE International Geoscience and Remote Sensing Symposium"
   ]
  },
  {
   "cell_type": "markdown",
   "id": "a86c3018",
   "metadata": {},
   "source": [
    "APR 2017 <br> \n",
    "__[Applying High-Resolution Visible Imagery to Satellite Melt Pond Fraction Retrieval: A Neural Network Approach.](https://www.researchgate.net/publication/316163292_Applying_High-Resolution_Visible_Imagery_to_Satellite_Melt_Pond_Fraction_Retrieval_A_Neural_Network_Approach)__\n",
    "arXiv"
   ]
  },
  {
   "cell_type": "markdown",
   "id": "3a183875",
   "metadata": {},
   "source": [
    "FEB 2017 <br> \n",
    "__[Unsupervised detection of contextual anomaly in remotely sensed data. ](https://www.researchgate.net/publication/313509641_Unsupervised_detection_of_contextual_anomaly_in_remotely_sensed_data)__\n",
    "Remote Sensing of Environment"
   ]
  },
  {
   "cell_type": "markdown",
   "id": "852e9df1",
   "metadata": {},
   "source": [
    "OCT 2016 <br> \n",
    "__[Gazelle: Energy-Efficient Wearable Analysis for Running. ](https://www.researchgate.net/publication/309591381_Gazelle_Energy-Efficient_Wearable_Analysis_for_Running)__\n",
    "IEEE Transactions on Mobile Computing"
   ]
  },
  {
   "cell_type": "markdown",
   "id": "4844dc25",
   "metadata": {},
   "source": [
    "Feb 2016 <br> \n",
    "__[An Unsupervised Anomalous Event Detection and Interactive Analysis Framework for Large-scale Satellite Data.](https://www.researchgate.net/publication/311669266_An_Unsupervised_Anomalous_Event_Detection_and_Interactive_Analysis_Framework_for_Large-scale_Satellite_Data)__\n",
    " AGU Fall Meeting Abstracts"
   ]
  },
  {
   "cell_type": "markdown",
   "id": "75becd98",
   "metadata": {},
   "source": [
    "DEC 2015 <br> \n",
    "__[Condensing Massive Satellite Datasets For Rapid Interactive Analysis. ](https://www.researchgate.net/publication/289538453_Condensing_Massive_Satellite_Datasets_For_Rapid_Interactive_Analysis)__\n",
    "AGU Fall Meeting Abstracts"
   ]
  },
  {
   "cell_type": "markdown",
   "id": "8385102e",
   "metadata": {},
   "source": [
    "JAN 2015 <br> \n",
    "__[Data sensing and analysis: Challenges for wearables.](https://www.researchgate.net/publication/273448170_Data_sensing_and_analysis_Challenges_for_wearables)__\n",
    " IEEE Design Automation Conference (ASP-DAC)"
   ]
  },
  {
   "cell_type": "markdown",
   "id": "e7b2d03e",
   "metadata": {},
   "source": [
    "DEC 2014 <br> \n",
    "__[The Condensate Database for Big Data Analysis. ](https://www.researchgate.net/publication/289538446_The_Condensate_Database_for_Big_Data_Analysis)__\n",
    "AGU Fall Meeting Abstracts\n",
    "\n"
   ]
  },
  {
   "cell_type": "markdown",
   "id": "76830a7c",
   "metadata": {},
   "source": [
    "FEB 2011 <br> \n",
    "__[Olfaction and hearing based mobile robot navigation for odor/sound source search.](https://www.researchgate.net/publication/221818257_Olfaction_and_Hearing_Based_Mobile_Robot_Navigation_for_OdorSound_Source_Search)__\n",
    " Sensors"
   ]
  },
  {
   "cell_type": "markdown",
   "id": "71f966ea",
   "metadata": {},
   "source": [
    "JAN 2011 <br> \n",
    "__[A wireless electronic nose system using a Fe2O3 gas sensing array and least squares support vector regression.](https://www.researchgate.net/publication/221844007_A_Wireless_Electronic_Nose_System_Using_a_Fe2O3_Gas_Sensing_Array_and_Least_Squares_Support_Vector_Regression)__\n",
    "Sensors"
   ]
  }
 ],
 "metadata": {
  "kernelspec": {
   "display_name": "Python 3 (ipykernel)",
   "language": "python",
   "name": "python3"
  },
  "language_info": {
   "codemirror_mode": {
    "name": "ipython",
    "version": 3
   },
   "file_extension": ".py",
   "mimetype": "text/x-python",
   "name": "python",
   "nbconvert_exporter": "python",
   "pygments_lexer": "ipython3",
   "version": "3.9.8"
  }
 },
 "nbformat": 4,
 "nbformat_minor": 5
}
